{
 "cells": [
  {
   "cell_type": "code",
   "execution_count": 2,
   "metadata": {},
   "outputs": [],
   "source": [
    "from sympy import init_printing\n",
    "from sympy import *\n",
    "init_printing()"
   ]
  },
  {
   "cell_type": "code",
   "execution_count": 38,
   "metadata": {},
   "outputs": [],
   "source": [
    "t, r, w, j, P, Q, T, s, npv = symbols('t, r, w, J(t), P, Q(t), T, s, NPV')"
   ]
  },
  {
   "cell_type": "markdown",
   "metadata": {},
   "source": [
    "### Exercise 4"
   ]
  },
  {
   "cell_type": "code",
   "execution_count": 24,
   "metadata": {},
   "outputs": [],
   "source": [
    "V = Function('V')(t)\n",
    "J = (-w + exp(-r*t)*V)/(1-exp(-r*t))"
   ]
  },
  {
   "cell_type": "code",
   "execution_count": 25,
   "metadata": {},
   "outputs": [
    {
     "data": {
      "image/png": "[encoded data removed]",
      "text/latex": [
       "$$\\frac{- w + V{\\left (t \\right )} e^{- r t}}{1 - e^{- r t}}$$"
      ],
      "text/plain": [
       "           -r⋅t\n",
       "-w + V(t)⋅ℯ    \n",
       "───────────────\n",
       "        -r⋅t   \n",
       "   1 - ℯ       "
      ]
     },
     "execution_count": 25,
     "metadata": {},
     "output_type": "execute_result"
    }
   ],
   "source": [
    "J"
   ]
  },
  {
   "cell_type": "code",
   "execution_count": 26,
   "metadata": {},
   "outputs": [
    {
     "data": {
      "image/png": "[encoded data removed]",
      "text/latex": [
       "$$- \\frac{r \\left(- w + V{\\left (t \\right )} e^{- r t}\\right) e^{- r t}}{\\left(1 - e^{- r t}\\right)^{2}} + \\frac{- r V{\\left (t \\right )} e^{- r t} + e^{- r t} \\frac{d}{d t} V{\\left (t \\right )}}{1 - e^{- r t}}$$"
      ],
      "text/plain": [
       "                                        -r⋅t    -r⋅t d       \n",
       "    ⎛           -r⋅t⎞  -r⋅t   - r⋅V(t)⋅ℯ     + ℯ    ⋅──(V(t))\n",
       "  r⋅⎝-w + V(t)⋅ℯ    ⎠⋅ℯ                              dt      \n",
       "- ───────────────────────── + ───────────────────────────────\n",
       "                    2                         -r⋅t           \n",
       "         ⎛     -r⋅t⎞                     1 - ℯ               \n",
       "         ⎝1 - ℯ    ⎠                                         "
      ]
     },
     "execution_count": 26,
     "metadata": {},
     "output_type": "execute_result"
    }
   ],
   "source": [
    "diff(J, t)"
   ]
  },
  {
   "cell_type": "code",
   "execution_count": 27,
   "metadata": {},
   "outputs": [
    {
     "data": {
      "image/png": "[encoded data removed]",
      "text/latex": [
       "$$- \\frac{J(t) r e^{- r t}}{1 - e^{- r t}} + \\frac{- r V{\\left (t \\right )} e^{- r t} + e^{- r t} \\frac{d}{d t} V{\\left (t \\right )}}{1 - e^{- r t}}$$"
      ],
      "text/plain": [
       "                           -r⋅t    -r⋅t d       \n",
       "          -r⋅t   - r⋅V(t)⋅ℯ     + ℯ    ⋅──(V(t))\n",
       "  J(t)⋅r⋅ℯ                              dt      \n",
       "- ──────────── + ───────────────────────────────\n",
       "        -r⋅t                     -r⋅t           \n",
       "   1 - ℯ                    1 - ℯ               "
      ]
     },
     "execution_count": 27,
     "metadata": {},
     "output_type": "execute_result"
    }
   ],
   "source": [
    "diff(J, t).subs(J, j) #https://mathematica.stackexchange.com/questions/84701/is-there-a-function-equivalent-to-rewrite-function-in-sympy"
   ]
  },
  {
   "cell_type": "markdown",
   "metadata": {},
   "source": [
    "### Exercise 6"
   ]
  },
  {
   "cell_type": "code",
   "execution_count": 34,
   "metadata": {},
   "outputs": [],
   "source": [
    "A = Function('A')(s)"
   ]
  },
  {
   "cell_type": "code",
   "execution_count": 35,
   "metadata": {},
   "outputs": [
    {
     "data": {
      "image/png": "[encoded data removed]",
      "text/latex": [
       "$$\\frac{- w + \\int_{0}^{T} A{\\left (s \\right )}\\, ds + \\sum_{t=0}^{T} P Q(t) e^{- r t}}{1 - e^{- T r}}$$"
      ],
      "text/plain": [
       "                   T               \n",
       "                  ___              \n",
       "     T            ╲                \n",
       "     ⌠             ╲           -r⋅t\n",
       "-w + ⎮ A(s) ds +   ╱   P⋅Q(t)⋅ℯ    \n",
       "     ⌡            ╱                \n",
       "     0            ‾‾‾              \n",
       "                 t = 0             \n",
       "───────────────────────────────────\n",
       "                  -T⋅r             \n",
       "             1 - ℯ                 "
      ]
     },
     "execution_count": 35,
     "metadata": {},
     "output_type": "execute_result"
    }
   ],
   "source": [
    "NPV = (-w + Sum(P*Q*exp(-r*t), (t, 0, T)) + Integral(A,(s, 0, T)))/(1-exp(-r*T))\n",
    "NPV"
   ]
  },
  {
   "cell_type": "code",
   "execution_count": 36,
   "metadata": {},
   "outputs": [
    {
     "data": {
      "image/png": "[encoded data removed]",
      "text/latex": [
       "$$- \\frac{r \\left(- w + \\int_{0}^{T} A{\\left (s \\right )}\\, ds + \\sum_{t=0}^{T} P Q(t) e^{- r t}\\right) e^{- T r}}{\\left(1 - e^{- T r}\\right)^{2}} + \\frac{A{\\left (T \\right )} + \\frac{\\partial}{\\partial T} \\sum_{t=0}^{T} P Q(t) e^{- r t} + \\int_{0}^{T} 0\\, ds}{1 - e^{- T r}}$$"
      ],
      "text/plain": [
       "    ⎛                   T               ⎞                  ⎛  T               \n",
       "    ⎜                  ___              ⎟                  ⎜ ___              \n",
       "    ⎜     T            ╲                ⎟                  ⎜ ╲                \n",
       "    ⎜     ⌠             ╲           -r⋅t⎟  -T⋅r          ∂ ⎜  ╲           -r⋅t\n",
       "  r⋅⎜-w + ⎮ A(s) ds +   ╱   P⋅Q(t)⋅ℯ    ⎟⋅ℯ       A(T) + ──⎜  ╱   P⋅Q(t)⋅ℯ    \n",
       "    ⎜     ⌡            ╱                ⎟                ∂T⎜ ╱                \n",
       "    ⎜     0            ‾‾‾              ⎟                  ⎜ ‾‾‾              \n",
       "    ⎝                 t = 0             ⎠                  ⎝t = 0             \n",
       "- ───────────────────────────────────────────── + ────────────────────────────\n",
       "                              2                                      -T⋅r     \n",
       "                   ⎛     -T⋅r⎞                                  1 - ℯ         \n",
       "                   ⎝1 - ℯ    ⎠                                                \n",
       "\n",
       "⎞         \n",
       "⎟         \n",
       "⎟   T     \n",
       "⎟   ⌠     \n",
       "⎟ + ⎮ 0 ds\n",
       "⎟   ⌡     \n",
       "⎟   0     \n",
       "⎠         \n",
       "──────────\n",
       "          \n",
       "          \n",
       "          "
      ]
     },
     "execution_count": 36,
     "metadata": {},
     "output_type": "execute_result"
    }
   ],
   "source": [
    "diff(NPV, T)"
   ]
  },
  {
   "cell_type": "code",
   "execution_count": 39,
   "metadata": {},
   "outputs": [
    {
     "data": {
      "image/png": "[encoded data removed]",
      "text/latex": [
       "$$- \\frac{NPV r e^{- T r}}{1 - e^{- T r}} + \\frac{A{\\left (T \\right )} + \\frac{\\partial}{\\partial T} \\sum_{t=0}^{T} P Q(t) e^{- r t} + \\int_{0}^{T} 0\\, ds}{1 - e^{- T r}}$$"
      ],
      "text/plain": [
       "                         ⎛  T               ⎞         \n",
       "                         ⎜ ___              ⎟         \n",
       "                         ⎜ ╲                ⎟   T     \n",
       "                       ∂ ⎜  ╲           -r⋅t⎟   ⌠     \n",
       "                A(T) + ──⎜  ╱   P⋅Q(t)⋅ℯ    ⎟ + ⎮ 0 ds\n",
       "                       ∂T⎜ ╱                ⎟   ⌡     \n",
       "         -T⋅r            ⎜ ‾‾‾              ⎟   0     \n",
       "  NPV⋅r⋅ℯ                ⎝t = 0             ⎠         \n",
       "- ─────────── + ──────────────────────────────────────\n",
       "        -T⋅r                       -T⋅r               \n",
       "   1 - ℯ                      1 - ℯ                   "
      ]
     },
     "execution_count": 39,
     "metadata": {},
     "output_type": "execute_result"
    }
   ],
   "source": [
    "diff(NPV,T).subs(NPV, npv)"
   ]
  },
  {
   "cell_type": "code",
   "execution_count": null,
   "metadata": {},
   "outputs": [],
   "source": []
  }
 ],
 "metadata": {
  "kernelspec": {
   "display_name": "Python 3",
   "language": "python",
   "name": "python3"
  },
  "language_info": {
   "codemirror_mode": {
    "name": "ipython",
    "version": 3
   },
   "file_extension": ".py",
   "mimetype": "text/x-python",
   "name": "python",
   "nbconvert_exporter": "python",
   "pygments_lexer": "ipython3",
   "version": "3.7.1"
  }
 },
 "nbformat": 4,
 "nbformat_minor": 2
}
